{
  "cells": [
    {
      "cell_type": "code",
      "execution_count": null,
      "metadata": {
        "id": "Bev0-Rd9Er8U"
      },
      "outputs": [],
      "source": [
        "import pandas as pd\n",
        "import numpy as np\n",
        "import matplotlib.pyplot as plt\n",
        "import seaborn as sns\n",
        "from sklearn.model_selection import train_test_split\n",
        "from sklearn.linear_model import LinearRegression\n",
        "from sklearn.metrics import mean_squared_error, r2_score\n",
        "\n",
        "from tabulate import tabulate"
      ]
    },
    {
      "cell_type": "code",
      "execution_count": null,
      "metadata": {
        "id": "YvgmqUYaE5dL"
      },
      "outputs": [],
      "source": [
        "df_leitos_2022 = pd.read_csv(\"Leitos_2022.csv\", encoding='latin-1')"
      ]
    },
    {
      "cell_type": "code",
      "execution_count": null,
      "metadata": {},
      "outputs": [],
      "source": [
        "df_leitos_2023 = pd.read_csv(\"Leitos_2023.csv\", encoding='latin-1')"
      ]
    },
    {
      "cell_type": "code",
      "execution_count": null,
      "metadata": {},
      "outputs": [],
      "source": [
        "# Obter as colunas de cada DataFrame\n",
        "colunas_2022 = sorted(df_leitos_2022.columns)\n",
        "colunas_2023 = sorted(df_leitos_2023.columns)\n",
        "\n",
        "# Verificar se as colunas são as mesmas em ambos os DataFrames\n",
        "if colunas_2022 == colunas_2023:\n",
        "    print(\"As colunas são as mesmas nos dois DataFrames.\")\n",
        "else:\n",
        "    # Encontrar as colunas que estão em um DataFrame, mas não no outro\n",
        "    colunas_faltando_2022 = [coluna for coluna in colunas_2023 if coluna not in colunas_2022]\n",
        "    colunas_faltando_2023 = [coluna for coluna in colunas_2022 if coluna not in colunas_2023]\n",
        "\n",
        "    print(\"As colunas são diferentes nos dois DataFrames.\")\n",
        "    print(\"Colunas faltando no DataFrame de 2022:\", colunas_faltando_2022)\n",
        "    print(\"Colunas faltando no DataFrame de 2023:\", colunas_faltando_2023)"
      ]
    },
    {
      "cell_type": "code",
      "execution_count": null,
      "metadata": {
        "id": "fJraZ49fFY68"
      },
      "outputs": [],
      "source": [
        "print(tabulate(df_leitos_2022.head(), headers='keys', tablefmt='pretty'))"
      ]
    },
    {
      "cell_type": "code",
      "execution_count": null,
      "metadata": {},
      "outputs": [],
      "source": [
        "print(tabulate(df_leitos_2023.head(), headers='keys', tablefmt='pretty'))"
      ]
    },
    {
      "cell_type": "code",
      "execution_count": null,
      "metadata": {
        "id": "KWDGikcJQrzW"
      },
      "outputs": [],
      "source": [
        "print(\"Colunas presentes:\", df_leitos.columns)"
      ]
    },
    {
      "cell_type": "code",
      "execution_count": null,
      "metadata": {
        "colab": {
          "base_uri": "https://localhost:8080/"
        },
        "id": "tDo9bHYEVk9f",
        "outputId": "fabb1004-7b33-40b0-ce86-d80b99b0b81c"
      },
      "outputs": [],
      "source": [
        "print(df_leitos['DESC_NATUREZA_JURIDICA'].unique())"
      ]
    },
    {
      "cell_type": "code",
      "execution_count": null,
      "metadata": {
        "colab": {
          "base_uri": "https://localhost:8080/"
        },
        "id": "gEiPxT_ZFjbt",
        "outputId": "174e57af-19ff-4eb5-a34b-e51dc269ce2f"
      },
      "outputs": [],
      "source": [
        "# tamanho do conjunto de dados (número de linhas e colunas)\n",
        "print(\"Número de linhas e colunas:\", df_leitos.shape)"
      ]
    },
    {
      "cell_type": "code",
      "execution_count": null,
      "metadata": {
        "id": "hKXczOrQFtpQ"
      },
      "outputs": [],
      "source": [
        "# Gráfico de barras para a contagem de registros por 'UF'\n",
        "plt.figure(figsize=(12, 6))\n",
        "sns.countplot(x='UF', data=df_leitos)\n",
        "plt.title('Contagem por UF')\n",
        "plt.show()"
      ]
    },
    {
      "cell_type": "code",
      "execution_count": null,
      "metadata": {
        "id": "aF6fMU-OGESx"
      },
      "outputs": [],
      "source": [
        "# Boxplot para visualizar a distribuição dos leitos SUS\n",
        "plt.figure(figsize=(12, 6))\n",
        "sns.boxplot(x='LEITOS_SUS', data=df_leitos)\n",
        "plt.title('Distribuição de Leitos SUS')\n",
        "plt.show()"
      ]
    },
    {
      "cell_type": "code",
      "execution_count": null,
      "metadata": {
        "id": "Fl5gZ9rnHuX2"
      },
      "outputs": [],
      "source": [
        "# Distribuição do número de leitos existentes\n",
        "plt.figure(figsize=(12, 6))\n",
        "sns.histplot(df_leitos['LEITOS_EXISTENTES'], bins=30, kde=True, color='blue', label='Leitos Existentes')\n",
        "plt.title('Distribuição do Número de Leitos Existentes')\n",
        "plt.xlabel('Número de Leitos')\n",
        "plt.ylabel('Frequência')\n",
        "plt.legend()\n",
        "plt.show()"
      ]
    },
    {
      "cell_type": "code",
      "execution_count": null,
      "metadata": {
        "id": "FwuE1t2IH4Qw"
      },
      "outputs": [],
      "source": [
        "# Distribuição do número de leitos SUS\n",
        "plt.figure(figsize=(12, 6))\n",
        "sns.histplot(df_leitos['LEITOS_SUS'], bins=30, kde=True, color='green', label='Leitos SUS')\n",
        "plt.title('Distribuição do Número de Leitos SUS')\n",
        "plt.xlabel('Número de Leitos')\n",
        "plt.ylabel('Frequência')\n",
        "plt.legend()\n",
        "plt.show()"
      ]
    },
    {
      "cell_type": "code",
      "execution_count": null,
      "metadata": {
        "id": "uyGaP_19ICnX"
      },
      "outputs": [],
      "source": [
        "# Selecionando colunas relevantes para a distribuição dos tipos de leitos\n",
        "tipos_leitos = df_leitos[['UTI_TOTAL_EXIST', 'UTI_ADULTO_EXIST', 'UTI_PEDIATRICO_EXIST', 'UTI_NEONATAL_EXIST']]\n",
        "\n",
        "# Boxplot para visualizar a distribuição dos tipos de leitos\n",
        "plt.figure(figsize=(14, 8))\n",
        "sns.boxplot(data=tipos_leitos, orient='h', palette='viridis')\n",
        "plt.title('Distribuição dos Tipos de Leitos')\n",
        "plt.xlabel('Quantidade de Leitos')\n",
        "plt.show()\n"
      ]
    },
    {
      "cell_type": "code",
      "execution_count": null,
      "metadata": {
        "id": "9JGpw1O9PN4H"
      },
      "outputs": [],
      "source": [
        "# Correlação entre o número total de leitos e o número de leitos SUS\n",
        "correlation_leitos = df_leitos[['LEITOS_EXISTENTES', 'LEITOS_SUS']].corr()\n",
        "\n",
        "# Heatmap para visualização da correlação\n",
        "plt.figure(figsize=(8, 6))\n",
        "sns.heatmap(correlation_leitos, annot=True, cmap='coolwarm', fmt=\".2f\")\n",
        "plt.title('Correlação entre Número Total de Leitos e Número de Leitos SUS')\n",
        "plt.show()"
      ]
    },
    {
      "cell_type": "code",
      "execution_count": null,
      "metadata": {
        "id": "_nX0Ft-OPWLC"
      },
      "outputs": [],
      "source": [
        "# Selecionando colunas relevantes para a correlação\n",
        "correlation_leitos_especificos = df_leitos[['UTI_NEONATAL_EXIST', 'LEITOS_EXISTENTES']]\n",
        "\n",
        "# Scatterplot para visualizar a correlação\n",
        "plt.figure(figsize=(10, 6))\n",
        "sns.scatterplot(data=correlation_leitos_especificos, x='LEITOS_EXISTENTES', y='UTI_NEONATAL_EXIST', color='purple')\n",
        "plt.title('Correlação entre UTI Neonatal e Número Total de Leitos')\n",
        "plt.xlabel('Número Total de Leitos')\n",
        "plt.ylabel('Número de Leitos de UTI Neonatal')\n",
        "plt.show()"
      ]
    },
    {
      "cell_type": "code",
      "execution_count": null,
      "metadata": {
        "id": "cNASSOVGPljW"
      },
      "outputs": [],
      "source": [
        "# Agrupar por região e somar os leitos\n",
        "leitos_por_regiao = df_leitos.groupby('REGIAO')[['LEITOS_EXISTENTES', 'LEITOS_SUS']].sum()\n",
        "\n",
        "# Plotar gráfico de barras\n",
        "plt.figure(figsize=(12, 6))\n",
        "sns.barplot(data=leitos_por_regiao.reset_index(), x='REGIAO', y='LEITOS_EXISTENTES', label='Leitos Totais')\n",
        "sns.barplot(data=leitos_por_regiao.reset_index(), x='REGIAO', y='LEITOS_SUS', label='Leitos SUS')\n",
        "plt.title('Distribuição de Leitos por Região')\n",
        "plt.xlabel('Região')\n",
        "plt.ylabel('Número de Leitos')\n",
        "plt.legend()\n",
        "plt.show()"
      ]
    },
    {
      "cell_type": "code",
      "execution_count": null,
      "metadata": {
        "id": "xkkdkxb6SI_W"
      },
      "outputs": [],
      "source": [
        "# Agrupar por tipo de gestão e somar os leitos\n",
        "leitos_por_gestao = df_leitos.groupby('TP_GESTAO')[['LEITOS_EXISTENTES', 'LEITOS_SUS']].sum()\n",
        "\n",
        "# Plotar gráfico de barras\n",
        "plt.figure(figsize=(10, 6))\n",
        "sns.barplot(data=leitos_por_gestao.reset_index(), x='TP_GESTAO', y='LEITOS_EXISTENTES', label='Leitos Totais')\n",
        "sns.barplot(data=leitos_por_gestao.reset_index(), x='TP_GESTAO', y='LEITOS_SUS', label='Leitos SUS')\n",
        "plt.title('Quantidade de Leitos por Tipo de Gestão')\n",
        "plt.xlabel('Tipo de Gestão')\n",
        "plt.ylabel('Número de Leitos')\n",
        "plt.legend()\n",
        "plt.show()\n"
      ]
    },
    {
      "cell_type": "code",
      "execution_count": null,
      "metadata": {
        "id": "p9dZKoqJS31F"
      },
      "outputs": [],
      "source": [
        "# Agrupar por tipo de gestão e obter a média das características dos leitos\n",
        "caracteristicas_por_gestao = df_leitos.groupby('TP_GESTAO')[['UTI_TOTAL_EXIST', 'UTI_ADULTO_EXIST', 'UTI_PEDIATRICO_EXIST', 'UTI_NEONATAL_EXIST']].mean()\n",
        "\n",
        "# Plotar gráfico de barras\n",
        "plt.figure(figsize=(12, 8))\n",
        "ax = caracteristicas_por_gestao.plot(kind='bar', stacked=True)\n",
        "plt.title('Características dos Leitos por Tipo de Gestão')\n",
        "plt.xlabel('Tipo de Gestão')\n",
        "plt.ylabel('Número Médio de Leitos')\n",
        "\n",
        "# Ajustar a posição da legenda\n",
        "ax.legend(loc='upper right', bbox_to_anchor=(1.25, 1))\n",
        "\n",
        "plt.show()"
      ]
    },
    {
      "cell_type": "code",
      "execution_count": null,
      "metadata": {
        "id": "bpOl_etnclxy"
      },
      "outputs": [],
      "source": [
        "# Agrupar por natureza jurídica e obter a média das características dos leitos\n",
        "caracteristicas_por_juridica = df_leitos.groupby('DESC_NATUREZA_JURIDICA')[['UTI_TOTAL_EXIST', 'UTI_ADULTO_EXIST', 'UTI_PEDIATRICO_EXIST', 'UTI_NEONATAL_EXIST']].mean()\n",
        "\n",
        "# Plotar gráfico de barras empilhadas\n",
        "plt.figure(figsize=(12, 8))\n",
        "ax = caracteristicas_por_juridica.plot(kind='bar', stacked=True)\n",
        "plt.title('Características dos Leitos por Natureza Jurídica')\n",
        "plt.xlabel('Natureza Jurídica')\n",
        "plt.ylabel('Número Médio de Leitos')\n",
        "ax.legend(loc='upper right', bbox_to_anchor=(1.25, 1))\n",
        "plt.show()"
      ]
    },
    {
      "cell_type": "code",
      "execution_count": null,
      "metadata": {
        "colab": {
          "base_uri": "https://localhost:8080/"
        },
        "id": "-eqPxd9bTqsQ",
        "outputId": "2c97e82e-81d6-4aa2-b084-5ab2f1b44bb8"
      },
      "outputs": [],
      "source": [
        "# Verificar valores únicos na coluna 'MOTIVO_DESABILITACAO'\n",
        "valores_desabilitacao = df_leitos['MOTIVO_DESABILITACAO'].unique()\n",
        "print(valores_desabilitacao)\n"
      ]
    },
    {
      "cell_type": "code",
      "execution_count": null,
      "metadata": {
        "id": "Y6K1tnVGUUfn"
      },
      "outputs": [],
      "source": [
        "# Verificar valores ausentes\n",
        "print(df_leitos.isnull().sum())"
      ]
    },
    {
      "cell_type": "code",
      "execution_count": null,
      "metadata": {
        "id": "g1wNkQILWoRf"
      },
      "outputs": [],
      "source": [
        "# Verificar e remover duplicatas\n",
        "df_leitos = df_leitos.drop_duplicates()\n",
        "\n",
        "# Verificar se há duplicatas restantes\n",
        "print(\"Duplicatas restantes:\", df_leitos.duplicated().sum())"
      ]
    },
    {
      "cell_type": "code",
      "execution_count": null,
      "metadata": {
        "id": "kO8p0vK3Zq7a"
      },
      "outputs": [],
      "source": [
        "df_cleaned = df_leitos"
      ]
    },
    {
      "cell_type": "code",
      "execution_count": null,
      "metadata": {
        "colab": {
          "base_uri": "https://localhost:8080/"
        },
        "id": "E9c8bojPZweR",
        "outputId": "bf7eede5-1603-46a8-e789-2dab7c227323"
      },
      "outputs": [],
      "source": [
        "# Lista de colunas a serem excluídas\n",
        "colunas_para_excluir = ['NO_COMPLEMENTO', 'NU_TELEFONE', 'NO_EMAIL', 'MOTIVO_DESABILITACAO', 'NO_LOGRADOURO', 'NU_ENDERECO', 'NO_BAIRRO']\n",
        "\n",
        "# Excluindo as colunas do DataFrame\n",
        "df_cleaned = df_leitos.drop(columns=colunas_para_excluir, errors='ignore')\n",
        "\n",
        "# Exibindo o DataFrame atualizado\n",
        "print(tabulate(df_cleaned.head(), headers='keys', tablefmt='pretty'))"
      ]
    },
    {
      "cell_type": "code",
      "execution_count": null,
      "metadata": {
        "id": "jGa7yL8BaAAe"
      },
      "outputs": [],
      "source": [
        "# Substitua 'variaveis_relevantes' pelas variáveis escolhidas\n",
        "variaveis_relevantes = df_cleaned[['REGIAO','UF', 'MUNICIPIO','TP_GESTAO', 'DESC_NATUREZA_JURIDICA', 'LEITOS_EXISTENTES', 'LEITOS_SUS']]"
      ]
    },
    {
      "cell_type": "code",
      "execution_count": null,
      "metadata": {
        "colab": {
          "base_uri": "https://localhost:8080/"
        },
        "id": "0KrTENP7C_Z1",
        "outputId": "447e4228-bbf3-4167-b839-b1881fd1481d"
      },
      "outputs": [],
      "source": [
        "# Verificar dados ausentes nas variáveis escolhidas\n",
        "dados_ausentes = variaveis_relevantes.isnull().sum()\n",
        "print(\"Dados Ausentes nas Variáveis Relevantes:\")\n",
        "print(dados_ausentes)"
      ]
    },
    {
      "cell_type": "code",
      "execution_count": null,
      "metadata": {},
      "outputs": [],
      "source": [
        "from sklearn.model_selection import train_test_split\n",
        "from sklearn.linear_model import LinearRegression\n",
        "from sklearn.metrics import mean_squared_error, r2_score\n",
        "import numpy as np\n",
        "\n",
        "# Selecionar colunas para treinamento\n",
        "features = ['LEITOS_EXISTENTES', 'UTI_TOTAL_EXIST', 'UTI_TOTAL_SUS']\n",
        "\n",
        "# Criar conjunto de dados simplificado\n",
        "df_simples = df_cleaned[features + ['LEITOS_SUS']].copy()\n",
        "\n",
        "# Dividir o conjunto de dados em treinamento e teste\n",
        "train_data, test_data = train_test_split(df_simples, test_size=0.2, random_state=42)\n",
        "\n",
        "# Separar as variáveis independentes (X) e a variável dependente (y)\n",
        "X_train = train_data[features]\n",
        "y_train = train_data['LEITOS_SUS']\n",
        "X_test = test_data[features]\n",
        "y_test = test_data['LEITOS_SUS']\n",
        "\n",
        "# Criar e treinar o modelo de Regressão Linear\n",
        "modelo_regressao = LinearRegression()\n",
        "modelo_regressao.fit(X_train, y_train)\n",
        "\n",
        "# Fazer previsões no conjunto de teste\n",
        "y_pred = modelo_regressao.predict(X_test)\n",
        "\n",
        "# Avaliar o desempenho do modelo\n",
        "mse = mean_squared_error(y_test, y_pred)\n",
        "r2 = r2_score(y_test, y_pred)\n",
        "\n",
        "# Exibir métricas de desempenho\n",
        "print(f'Mean Squared Error (MSE): {mse}')\n",
        "print(f'R-squared (R2): {r2}')"
      ]
    }
  ],
  "metadata": {
    "colab": {
      "provenance": []
    },
    "kernelspec": {
      "display_name": "Python 3",
      "name": "python3"
    },
    "language_info": {
      "codemirror_mode": {
        "name": "ipython",
        "version": 3
      },
      "file_extension": ".py",
      "mimetype": "text/x-python",
      "name": "python",
      "nbconvert_exporter": "python",
      "pygments_lexer": "ipython3",
      "version": "3.11.4"
    }
  },
  "nbformat": 4,
  "nbformat_minor": 0
}
